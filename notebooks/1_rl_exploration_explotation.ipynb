{
 "cells": [
  {
   "cell_type": "code",
   "execution_count": null,
   "metadata": {},
   "outputs": [
    {
     "ename": "",
     "evalue": "",
     "output_type": "error",
     "traceback": [
      "\u001b[1;31mFailed to start the Kernel. \n",
      "\u001b[1;31mPython extension is not exporting the jupyter API. \n",
      "\u001b[1;31mView Jupyter <a href='command:jupyter.viewOutput'>log</a> for further details."
     ]
    }
   ],
   "source": [
    "# Reinforcement learning basics"
   ]
  },
  {
   "cell_type": "code",
   "execution_count": null,
   "metadata": {},
   "outputs": [
    {
     "ename": "",
     "evalue": "",
     "output_type": "error",
     "traceback": [
      "\u001b[1;31mFailed to start the Kernel. \n",
      "\u001b[1;31mPython extension is not exporting the jupyter API. \n",
      "\u001b[1;31mView Jupyter <a href='command:jupyter.viewOutput'>log</a> for further details."
     ]
    }
   ],
   "source": [
    "import random as rnd\n",
    "\n",
    "class bandit_machine:\n",
    "    \"\"\"\n",
    "    class to create a bandit machine object\n",
    "    \"\"\"\n",
    "    def __init__(self, name: str, probability: float):\n",
    "        \"\"\"\n",
    "        Contructor to initialize a bandit machine\n",
    "        :var name: name of the machine\n",
    "        :var probability: probabilty to gain a reward\n",
    "        \"\"\"\n",
    "        self.name = name                # Name of the machine\n",
    "        self.p = probability            # Probability to gain a reward\n",
    "        self.p_estimated = 0            # Estimated probability for each iteration\n",
    "        self.n_samples = 1              # Number of times we pull the arm\n",
    "        self.p_estimated_cache = [0]    # Not need it. Only to plot the sample mean later on\n",
    "\n",
    "    def pull(self) -> int:\n",
    "        \"\"\"\n",
    "        Method to simulate a result after pulling the arm from the machine\n",
    "        :return: 1 if you got a reward, 0 if you didn't\n",
    "        \"\"\"\n",
    "        return int(rnd.random() < self.p)\n",
    "\n",
    "    def update(self, x: int):\n",
    "        \"\"\"\n",
    "        Method to update the estimated probability and number of samples parameters\n",
    "        \"\"\"\n",
    "        self.n_samples += 1\n",
    "        self.p_estimated = ((self.n_samples - 1) * self.p_estimated + x) / self.n_samples\n",
    "        self.p_estimated_cache.append(self.p_estimated)\n"
   ]
  },
  {
   "cell_type": "code",
   "execution_count": null,
   "metadata": {},
   "outputs": [
    {
     "ename": "",
     "evalue": "",
     "output_type": "error",
     "traceback": [
      "\u001b[1;31mFailed to start the Kernel. \n",
      "\u001b[1;31mPython extension is not exporting the jupyter API. \n",
      "\u001b[1;31mView Jupyter <a href='command:jupyter.viewOutput'>log</a> for further details."
     ]
    }
   ],
   "source": [
    "from matplotlib import pyplot as plt\n",
    "\n",
    "def plot_function(name, x_values, y_values):\n",
    "    plt.plot(x_values, y_values, '-') # added '-o' to join the points\n",
    "    plt.xlabel(\"Iterations\")\n",
    "    plt.ylabel(\"Estimated mean\")\n",
    "    plt.title(f\"{name}\")\n",
    "    plt.show()"
   ]
  },
  {
   "cell_type": "code",
   "execution_count": null,
   "metadata": {},
   "outputs": [
    {
     "ename": "",
     "evalue": "",
     "output_type": "error",
     "traceback": [
      "\u001b[1;31mFailed to start the Kernel. \n",
      "\u001b[1;31mPython extension is not exporting the jupyter API. \n",
      "\u001b[1;31mView Jupyter <a href='command:jupyter.viewOutput'>log</a> for further details."
     ]
    }
   ],
   "source": [
    "# Create the machine\n",
    "machine_test = bandit_machine('test_machine' ,0.75)\n",
    "\n",
    "# Test the machine by pulling the arm\n",
    "print(machine_test.name, machine_test.pull())"
   ]
  },
  {
   "cell_type": "code",
   "execution_count": null,
   "metadata": {},
   "outputs": [
    {
     "ename": "",
     "evalue": "",
     "output_type": "error",
     "traceback": [
      "\u001b[1;31mFailed to start the Kernel. \n",
      "\u001b[1;31mPython extension is not exporting the jupyter API. \n",
      "\u001b[1;31mView Jupyter <a href='command:jupyter.viewOutput'>log</a> for further details."
     ]
    }
   ],
   "source": [
    "# Create the bandit machines\n",
    "probabilities = [0.35, 0.5, 0.75]\n",
    "machines = [bandit_machine(f'machine_{i+1}', p) for i, p in enumerate(probabilities)]\n",
    "\n",
    "# Initial parameters\n",
    "n_experiments = 200\n",
    "epsilon = 0.1\n",
    "\n",
    "# Experiment\n",
    "for i in range(n_experiments):\n",
    "    # Select the machine to run\n",
    "    if rnd.random() < epsilon: # Explore action\n",
    "        selected_machine = machines[rnd.randint(0,2)]\n",
    "    else:\n",
    "        best_estimation = max([m.p_estimated for m in machines])\n",
    "        selected_machine = [m for m in machines if m.p_estimated == best_estimation][0]\n",
    "\n",
    "    # Pull the machine\n",
    "    reward = selected_machine.pull()\n",
    "    selected_machine.update(reward)\n",
    "\n",
    "\n",
    "# Plot results\n",
    "for m in machines:\n",
    "    print(f'{m.name} ({m.n_samples} pulls):')\n",
    "    print(f'The bandit has a estimated probability of {round(m.p_estimated, 2)}/{m.p}')\n",
    "    x_points = list(range(len(m.p_estimated_cache)))\n",
    "    plot_function(m.name, x_points, m.p_estimated_cache)\n"
   ]
  },
  {
   "cell_type": "code",
   "execution_count": null,
   "metadata": {},
   "outputs": [
    {
     "ename": "",
     "evalue": "",
     "output_type": "error",
     "traceback": [
      "\u001b[1;31mFailed to start the Kernel. \n",
      "\u001b[1;31mPython extension is not exporting the jupyter API. \n",
      "\u001b[1;31mView Jupyter <a href='command:jupyter.viewOutput'>log</a> for further details."
     ]
    }
   ],
   "source": [
    "class bandit_machine:\n",
    "    \"\"\"\n",
    "    class to create a bandit machine object\n",
    "    \"\"\"\n",
    "    def __init__(self, name: str, probability: float):\n",
    "        \"\"\"\n",
    "        Contructor to initialize a bandit machine\n",
    "        :var name: name of the machine\n",
    "        :var probability: probabilty to gain a reward\n",
    "        \"\"\"\n",
    "        self.name = name                # Name of the machine\n",
    "        self.p = probability            # Probability to gain a reward\n",
    "        self.p_estimated = 2.            # Estimated probability for each iteration\n",
    "        self.n_samples = 1              # Number of times we pull the arm\n",
    "        self.p_estimated_cache = [self.p_estimated]    # Not need it. Only to plot the sample mean later on\n",
    "\n",
    "    def pull(self) -> int:\n",
    "        \"\"\"\n",
    "        Method to simulate a result after pulling the arm from the machine\n",
    "        :return: 1 if you got a reward, 0 if you didn't\n",
    "        \"\"\"\n",
    "        return int(rnd.random() < self.p)\n",
    "\n",
    "    def update(self, x: int):\n",
    "        \"\"\"\n",
    "        Method to update the estimated probability and number of samples parameters\n",
    "        \"\"\"\n",
    "        self.n_samples += 1\n",
    "        self.p_estimated = ((self.n_samples - 1) * self.p_estimated + x) / self.n_samples\n",
    "        self.p_estimated_cache.append(self.p_estimated)\n",
    "        "
   ]
  },
  {
   "cell_type": "code",
   "execution_count": null,
   "metadata": {},
   "outputs": [
    {
     "ename": "",
     "evalue": "",
     "output_type": "error",
     "traceback": [
      "\u001b[1;31mFailed to start the Kernel. \n",
      "\u001b[1;31mPython extension is not exporting the jupyter API. \n",
      "\u001b[1;31mView Jupyter <a href='command:jupyter.viewOutput'>log</a> for further details."
     ]
    }
   ],
   "source": [
    "# Create the bandit machines\n",
    "probabilities = [0.35, 0.5, 0.75]\n",
    "machines_1 = [bandit_machine(f'machine_{i+1}', p) for i, p in enumerate(probabilities)]\n",
    "\n",
    "# Initial parameters\n",
    "n_experiments = 500\n",
    "epsilon = 0.1\n",
    "\n",
    "# Experiment\n",
    "for i in range(n_experiments):\n",
    "    # Select the machine to run\n",
    "    best_estimation = max([m.p_estimated for m in machines_1])\n",
    "    selected_machine = [m for m in machines_1 if m.p_estimated == best_estimation][0]\n",
    "\n",
    "    # Pull the machine\n",
    "    reward = selected_machine.pull()\n",
    "    selected_machine.update(reward)\n",
    "\n",
    "\n",
    "# Plot results\n",
    "for m in machines_1:\n",
    "    print(f'{m.name} ({m.n_samples} pulls):')\n",
    "    print(f'The bandit has a estimated probability of {round(m.p_estimated, 2)}/{m.p}')\n",
    "    x_points = list(range(len(m.p_estimated_cache)))\n",
    "    plot_function(m.name, x_points, m.p_estimated_cache)"
   ]
  },
  {
   "cell_type": "code",
   "execution_count": null,
   "metadata": {},
   "outputs": [
    {
     "ename": "",
     "evalue": "",
     "output_type": "error",
     "traceback": [
      "\u001b[1;31mFailed to start the Kernel. \n",
      "\u001b[1;31mPython extension is not exporting the jupyter API. \n",
      "\u001b[1;31mView Jupyter <a href='command:jupyter.viewOutput'>log</a> for further details."
     ]
    }
   ],
   "source": [
    "m_eg = machines[2]\n",
    "m_ov = machines_1[2]\n",
    "\n",
    "x_points = list(range(100))\n",
    "\n",
    "plt.plot(x_points, m_eg.p_estimated_cache[:100], '-')\n",
    "plt.plot(x_points, m_ov.p_estimated_cache[:100], '-')\n",
    "plt.xlabel(\"Iterations\")\n",
    "plt.ylabel(\"Estimated mean\")\n",
    "plt.title(f\"Epsilon greedy VS Optimistic initial values\")\n",
    "plt.show()"
   ]
  },
  {
   "cell_type": "code",
   "execution_count": null,
   "metadata": {},
   "outputs": [
    {
     "ename": "",
     "evalue": "",
     "output_type": "error",
     "traceback": [
      "\u001b[1;31mFailed to start the Kernel. \n",
      "\u001b[1;31mPython extension is not exporting the jupyter API. \n",
      "\u001b[1;31mView Jupyter <a href='command:jupyter.viewOutput'>log</a> for further details."
     ]
    }
   ],
   "source": [
    "from math import log\n",
    "\n",
    "class bandit_machine:\n",
    "    \"\"\"\n",
    "    class to create a bandit machine object\n",
    "    \"\"\"\n",
    "    def __init__(self, name: str, probability: float):\n",
    "        \"\"\"\n",
    "        Contructor to initialize a bandit machine\n",
    "        :var name: name of the machine\n",
    "        :var probability: probabilty to gain a reward\n",
    "        \"\"\"\n",
    "        self.name = name                # Name of the machine\n",
    "        self.p = probability            # Probability to gain a reward\n",
    "        self.p_estimated = 2            # Estimated probability for each iteration\n",
    "        self.n_samples = 1              # Number of times we pull the arm\n",
    "        self.p_estimated_cache = [self.p_estimated]    # Not need it. Only to plot the sample mean later on\n",
    "\n",
    "    def pull(self) -> int:\n",
    "        \"\"\"\n",
    "        Method to simulate a result after pulling the arm from the machine\n",
    "        :return: 1 if you got a reward, 0 if you didn't\n",
    "        \"\"\"\n",
    "        return int(rnd.random() < self.p)\n",
    "\n",
    "    def update(self, x: int):\n",
    "        \"\"\"\n",
    "        Method to update the estimated probability and number of samples parameters\n",
    "        :var x: reward obtained\n",
    "        \"\"\"\n",
    "        self.n_samples += 1\n",
    "        x_mean = ((self.n_samples - 1) * self.p_estimated + x) / self.n_samples\n",
    "        self.p_estimated = x_mean\n",
    "        self.p_estimated_cache.append(self.p_estimated)\n",
    "\n",
    "\n",
    "def apply_weight(x_mean, n_plays, n_samples):\n",
    "    return x_mean + (2*log(n_plays)/n_samples)**0.5"
   ]
  },
  {
   "cell_type": "code",
   "execution_count": null,
   "metadata": {},
   "outputs": [
    {
     "ename": "",
     "evalue": "",
     "output_type": "error",
     "traceback": [
      "\u001b[1;31mFailed to start the Kernel. \n",
      "\u001b[1;31mPython extension is not exporting the jupyter API. \n",
      "\u001b[1;31mView Jupyter <a href='command:jupyter.viewOutput'>log</a> for further details."
     ]
    }
   ],
   "source": [
    "# Create the bandit machines\n",
    "probabilities = [0.35, 0.5, 0.75]\n",
    "machines_2 = [bandit_machine(f'machine_{i+1}', p) for i, p in enumerate(probabilities)]\n",
    "\n",
    "# Initial parameters\n",
    "n_experiments = 500\n",
    "epsilon = 0.1\n",
    "\n",
    "# Experiment\n",
    "for i in range(n_experiments):\n",
    "    # Select the machine to run\n",
    "    best_estimation = max([apply_weight(m.p_estimated, i+1, m.n_samples) for m in machines_2])\n",
    "    selected_machine = [m for m in machines_2 if apply_weight(m.p_estimated, i+1, m.n_samples) == best_estimation][0]\n",
    "\n",
    "    # Pull the machine\n",
    "    reward = selected_machine.pull()\n",
    "    selected_machine.update(reward)\n",
    "\n",
    "\n",
    "# Plot results\n",
    "for m in machines_2:\n",
    "    print(f'{m.name} ({m.n_samples} pulls):')\n",
    "    print(f'The bandit has a estimated probability of {round(m.p_estimated, 2)}/{m.p}')\n",
    "    x_points = list(range(len(m.p_estimated_cache)))\n",
    "    plot_function(m.name, x_points, m.p_estimated_cache)"
   ]
  },
  {
   "cell_type": "code",
   "execution_count": null,
   "metadata": {},
   "outputs": [
    {
     "ename": "",
     "evalue": "",
     "output_type": "error",
     "traceback": [
      "\u001b[1;31mFailed to start the Kernel. \n",
      "\u001b[1;31mPython extension is not exporting the jupyter API. \n",
      "\u001b[1;31mView Jupyter <a href='command:jupyter.viewOutput'>log</a> for further details."
     ]
    }
   ],
   "source": [
    "m_eg = machines_1[2]\n",
    "m_ov = machines_2[2]\n",
    "\n",
    "x_points = list(range(100))\n",
    "\n",
    "plt.plot(x_points, m_eg.p_estimated_cache[:100], '-')\n",
    "plt.plot(x_points, m_ov.p_estimated_cache[:100], '-')\n",
    "plt.xlabel(\"Iterations\")\n",
    "plt.ylabel(\"Estimated mean\")\n",
    "plt.title(f\"Optimistic initial values VS UCB1\")\n",
    "plt.show()"
   ]
  },
  {
   "attachments": {},
   "cell_type": "markdown",
   "metadata": {},
   "source": [
    "## Bayesian bandits"
   ]
  },
  {
   "cell_type": "code",
   "execution_count": null,
   "metadata": {},
   "outputs": [
    {
     "ename": "",
     "evalue": "",
     "output_type": "error",
     "traceback": [
      "\u001b[1;31mFailed to start the Kernel. \n",
      "\u001b[1;31mPython extension is not exporting the jupyter API. \n",
      "\u001b[1;31mView Jupyter <a href='command:jupyter.viewOutput'>log</a> for further details."
     ]
    }
   ],
   "source": [
    "import numpy as np\n",
    "from scipy.stats import beta\n",
    "\n",
    "class bandit_machine:\n",
    "    \"\"\"\n",
    "    class to create a bandit machine object\n",
    "    \"\"\"\n",
    "    def __init__(self, name: str, probability: float):\n",
    "        \"\"\"\n",
    "        Contructor to initialize a bandit machine\n",
    "        :var name: name of the machine\n",
    "        :var probability: probabilty to gain a reward\n",
    "        \"\"\"\n",
    "        self.name = name                # Name of the machine\n",
    "        self.p = probability            # Probability to gain a reward\n",
    "        self.a = 1                      # Number of positive outcomes (rewards)\n",
    "        self.b = 1                      # Number of negative outcomes (failures)\n",
    "        self.N = 0                      # Number of pulls (optional)\n",
    "\n",
    "    def pull(self) -> int:\n",
    "        \"\"\"\n",
    "        Method to simulate a result after pulling the arm from the machine\n",
    "        :return: 1 if you got a reward, 0 if you didn't\n",
    "        \"\"\"\n",
    "        return int(rnd.random() < self.p)\n",
    "\n",
    "    def sample(self):\n",
    "        \"\"\"\n",
    "        Method to draw a sample from Beta(a,b)\n",
    "        \"\"\"\n",
    "        return np.random.beta(self.a, self.b)\n",
    "\n",
    "    def update(self, x: int):\n",
    "        \"\"\"\n",
    "        Method to update the estimated probability and number of samples parameters\n",
    "        :var x: reward obtained\n",
    "        \"\"\"\n",
    "        self.a += x\n",
    "        self.b += 1 - x\n",
    "        self.N += 1\n",
    "\n",
    "\n",
    "def plot(machines, trial):\n",
    "  x = np.linspace(0, 1, 200)\n",
    "  for b in machines:\n",
    "    y = beta.pdf(x, b.a, b.b)\n",
    "    plt.plot(x, y, label=f\"real p: {b.p:.4f}, win rate = {b.a - 1}/{b.N}\")\n",
    "  plt.title(f\"Bandit distributions after {trial} trials\")\n",
    "  plt.legend()\n",
    "  plt.show()"
   ]
  },
  {
   "cell_type": "code",
   "execution_count": null,
   "metadata": {},
   "outputs": [
    {
     "ename": "",
     "evalue": "",
     "output_type": "error",
     "traceback": [
      "\u001b[1;31mFailed to start the Kernel. \n",
      "\u001b[1;31mPython extension is not exporting the jupyter API. \n",
      "\u001b[1;31mView Jupyter <a href='command:jupyter.viewOutput'>log</a> for further details."
     ]
    }
   ],
   "source": [
    "# Create the bandit machines\n",
    "probabilities = [0.35, 0.5, 0.75]\n",
    "machines = [bandit_machine(f'machine_{i+1}', p) for i, p in enumerate(probabilities)]\n",
    "\n",
    "# Initial parameters\n",
    "n_experiments = 2000\n",
    "sample_points = [5,100,500,1999]\n",
    "rewards = np.zeros(n_experiments)\n",
    "\n",
    "\n",
    "for i in range(n_experiments):\n",
    "    # Thompson sampling\n",
    "    j = np.argmax([b.sample() for b in machines])\n",
    "\n",
    "    # plot the posteriors\n",
    "    if i in sample_points:\n",
    "        plot(machines, i)\n",
    "\n",
    "    # pull the arm for the bandit with the largest sample\n",
    "    x = machines[j].pull()\n",
    "\n",
    "    # update rewards\n",
    "    rewards[i] = x\n",
    "\n",
    "    # update the distribution for the bandit whose arm we just pulled\n",
    "    machines[j].update(x)\n",
    "\n",
    "# print total reward\n",
    "print(\"total reward earned:\", rewards.sum())\n",
    "print(\"overall win rate:\", rewards.sum() / n_experiments)\n",
    "print(\"num times selected each bandit:\", [b.N for b in machines])"
   ]
  }
 ],
 "metadata": {
  "kernelspec": {
   "display_name": ".env_rl",
   "language": "python",
   "name": "python3"
  },
  "language_info": {
   "codemirror_mode": {
    "name": "ipython",
    "version": 3
   },
   "file_extension": ".py",
   "mimetype": "text/x-python",
   "name": "python",
   "nbconvert_exporter": "python",
   "pygments_lexer": "ipython3",
   "version": "3.8.10 (default, Nov 14 2022, 12:59:47) \n[GCC 9.4.0]"
  },
  "orig_nbformat": 4,
  "vscode": {
   "interpreter": {
    "hash": "2e3813310c4d7b369a11a82c7332b8513fb78c308157e12ea4688a48e1bd6c77"
   }
  }
 },
 "nbformat": 4,
 "nbformat_minor": 2
}
